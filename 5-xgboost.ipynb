{
 "cells": [
  {
   "cell_type": "code",
   "execution_count": 19,
   "metadata": {
    "collapsed": true
   },
   "outputs": [
    {
     "name": "stdout",
     "output_type": "stream",
     "text": [
      "(60000, 784) (60000,)\n",
      "(10000, 784) (10000,)\n"
     ]
    }
   ],
   "source": [
    "import time\n",
    "import matplotlib.pyplot as plt\n",
    "import numpy as np\n",
    "\n",
    "from sklearn.model_selection import train_test_split\n",
    "from sklearn.preprocessing import StandardScaler\n",
    "from sklearn.utils import check_random_state\n",
    "\n",
    "from utils.mnist_reader import load_mnist\n",
    "X_main, y_main = load_mnist(\"data/fashion\", kind=\"train\")\n",
    "X_main = X_main.astype(np.float32)\n",
    "y_main = y_main.astype(np.float32)\n",
    "\n",
    "X_test, y_test = load_mnist(\"data/fashion\", kind=\"t10k\")\n",
    "X_test = X_test.astype(np.float32)\n",
    "y_test = y_test.astype(np.float32)\n",
    "\n",
    "print (X_main.shape, y_main.shape)\n",
    "print (X_test.shape, y_test.shape)"
   ]
  },
  {
   "cell_type": "markdown",
   "metadata": {},
   "source": [
    "### Standard scaling the pixel values with mean=0.0 and var=1.0"
   ]
  },
  {
   "cell_type": "code",
   "execution_count": 20,
   "metadata": {
    "collapsed": true
   },
   "outputs": [],
   "source": [
    "sc = StandardScaler()\n",
    "X_main_std = sc.fit_transform(X_main)\n",
    "X_test_std = sc.fit_transform(X_test)"
   ]
  },
  {
   "cell_type": "markdown",
   "metadata": {},
   "source": [
    "### Splitting the train dataset into train and validation sets"
   ]
  },
  {
   "cell_type": "code",
   "execution_count": 21,
   "metadata": {
    "collapsed": true
   },
   "outputs": [],
   "source": [
    "X_train, X_valid, y_train, y_valid = train_test_split(X_main_std, y_main, test_size=0.1)"
   ]
  },
  {
   "cell_type": "markdown",
   "metadata": {},
   "source": [
    "### Training XgBoost classifier on fashion-mnist dataset"
   ]
  },
  {
   "cell_type": "code",
   "execution_count": 5,
   "metadata": {
    "scrolled": true
   },
   "outputs": [],
   "source": [
    "import xgboost as xgb\n",
    "param_list = [(\"eta\", 0.08), (\"max_depth\", 6), (\"subsample\", 0.8), (\"colsample_bytree\", 0.8), (\"objective\", \"multi:softmax\"), (\"eval_metric\", \"merror\"), (\"alpha\", 8), (\"lambda\", 2), (\"num_class\", 10)]\n",
    "n_rounds = 10\n",
    "early_stopping = 2\n",
    "\n",
    "d_train = xgb.DMatrix(X_train, label=y_train)\n",
    "d_val = xgb.DMatrix(X_valid, label=y_valid)\n",
    "eval_list = [(d_train, \"train\"), (d_val, \"validation\")]"
   ]
  },
  {
   "cell_type": "code",
   "execution_count": 17,
   "metadata": {},
   "outputs": [
    {
     "name": "stdout",
     "output_type": "stream",
     "text": [
      "[0]\ttrain-merror:0.178463\tvalidation-merror:0.202333\n",
      "Multiple eval metrics have been passed: 'validation-merror' will be used for early stopping.\n",
      "\n",
      "Will train until validation-merror hasn't improved in 2 rounds.\n",
      "[1]\ttrain-merror:0.160222\tvalidation-merror:0.185167\n",
      "[2]\ttrain-merror:0.151685\tvalidation-merror:0.182333\n",
      "[3]\ttrain-merror:0.147611\tvalidation-merror:0.1755\n",
      "[4]\ttrain-merror:0.14663\tvalidation-merror:0.177167\n",
      "[5]\ttrain-merror:0.14437\tvalidation-merror:0.173667\n",
      "[6]\ttrain-merror:0.141815\tvalidation-merror:0.169333\n",
      "[7]\ttrain-merror:0.139352\tvalidation-merror:0.166333\n",
      "[8]\ttrain-merror:0.138593\tvalidation-merror:0.167333\n",
      "[9]\ttrain-merror:0.137519\tvalidation-merror:0.167667\n",
      "Stopping. Best iteration:\n",
      "[7]\ttrain-merror:0.139352\tvalidation-merror:0.166333\n",
      "\n",
      "CPU times: user 3min 44s, sys: 740 ms, total: 3min 44s\n",
      "Wall time: 58.5 s\n"
     ]
    }
   ],
   "source": [
    "global bst\n",
    "\n",
    "%time bst = xgb.train(param_list, d_train, n_rounds, evals=eval_list, early_stopping_rounds=early_stopping, verbose_eval=True)"
   ]
  },
  {
   "cell_type": "markdown",
   "metadata": {},
   "source": [
    "### Training the XgBoost classifier on MNIST dataset"
   ]
  },
  {
   "cell_type": "markdown",
   "metadata": {},
   "source": [
    "### Predicting with trained classifiers"
   ]
  },
  {
   "cell_type": "code",
   "execution_count": 19,
   "metadata": {},
   "outputs": [],
   "source": [
    "d_test = xgb.DMatrix(data=X_test_std)\n",
    "y_pred = bst.predict(d_test)"
   ]
  },
  {
   "cell_type": "markdown",
   "metadata": {},
   "source": [
    "### Checking accuracy for fashion and MNIST datasets respectively"
   ]
  },
  {
   "cell_type": "code",
   "execution_count": 20,
   "metadata": {},
   "outputs": [
    {
     "data": {
      "text/plain": [
       "array([0.835])"
      ]
     },
     "execution_count": 20,
     "metadata": {},
     "output_type": "execute_result"
    }
   ],
   "source": [
    "np.sum(y_pred == y_test) / y_test.shape"
   ]
  },
  {
   "cell_type": "code",
   "execution_count": 22,
   "metadata": {},
   "outputs": [
    {
     "data": {
      "text/plain": [
       "array([[-0.01341814, -0.02066268, -0.02378437, ..., -0.16669004,\n",
       "        -0.09440119, -0.03502946],\n",
       "       [-0.01341814, -0.02066268, -0.02378437, ..., -0.16669004,\n",
       "        -0.09440119, -0.03502946],\n",
       "       [-0.01341814, -0.02066268, -0.02378437, ..., -0.16669004,\n",
       "        -0.09440119, -0.03502946],\n",
       "       ...,\n",
       "       [-0.01341814, -0.02066268, -0.02378437, ..., -0.16669004,\n",
       "        -0.09440119, -0.03502946],\n",
       "       [-0.01341814, -0.02066268, -0.02378437, ..., -0.16669004,\n",
       "        -0.09440119, -0.03502946],\n",
       "       [-0.01341814, -0.02066268, -0.02378437, ..., -0.16669004,\n",
       "        -0.09440119, -0.03502946]], dtype=float32)"
      ]
     },
     "execution_count": 22,
     "metadata": {},
     "output_type": "execute_result"
    }
   ],
   "source": [
    "X_test_std"
   ]
  },
  {
   "cell_type": "markdown",
   "metadata": {},
   "source": [
    "## Using Dask..."
   ]
  },
  {
   "cell_type": "code",
   "execution_count": 25,
   "metadata": {},
   "outputs": [],
   "source": [
    "from dask.distributed import Client\n",
    "client = Client('dask-scheduler:8786')  # connect to cluster\n"
   ]
  },
  {
   "cell_type": "code",
   "execution_count": null,
   "metadata": {},
   "outputs": [],
   "source": [
    "client"
   ]
  },
  {
   "cell_type": "code",
   "execution_count": null,
   "metadata": {},
   "outputs": [],
   "source": [
    "global bst2\n",
    "\n",
    "import dask_xgboost as dxgb\n",
    "\n",
    "import dask.array as da \n",
    "da_x_train = da.from_array(X_train, chunks=1000)\n",
    "da_y_train = da.from_array(y_train, chunks=1000)\n",
    "# d_train = xgb.DMatrix(X_train, label=y_train)\n",
    "# d_val = xgb.DMatrix(X_valid, label=y_valid)\n",
    "# eval_list = [(d_train, \"train\"), (d_val, \"validation\")]\n",
    "# bst = dxgb.train(client, params, df_train, labels_train)\n",
    "\n",
    "%time bst2 = dxgb.train(client, param_list, da_x_train, da_y_train, n_rounds, evals=eval_list, early_stopping_rounds=early_stopping, verbose_eval=True)"
   ]
  },
  {
   "cell_type": "code",
   "execution_count": null,
   "metadata": {},
   "outputs": [],
   "source": [
    "import dask.array as da \n",
    "\n",
    "da.from_array(X_train, chunks=1000)"
   ]
  },
  {
   "cell_type": "code",
   "execution_count": 32,
   "metadata": {},
   "outputs": [
    {
     "data": {
      "text/plain": [
       "array([4., 2., 1., ..., 5., 7., 9.], dtype=float32)"
      ]
     },
     "execution_count": 32,
     "metadata": {},
     "output_type": "execute_result"
    }
   ],
   "source": [
    "y_train"
   ]
  },
  {
   "cell_type": "code",
   "execution_count": 17,
   "metadata": {},
   "outputs": [
    {
     "data": {
      "text/plain": [
       "<Future pending cb=[coroutine.<locals>.wrapper.<locals>.<lambda>() at /opt/conda/lib/python3.7/site-packages/tornado/gen.py:226]>"
      ]
     },
     "execution_count": 17,
     "metadata": {},
     "output_type": "execute_result"
    }
   ],
   "source": [
    "from dask_xgboost.core import parse_host_port \n",
    "host, port = parse_host_port(client.scheduler.address)\n",
    "\n",
    "def update_hosts3():\n",
    "#     import os\n",
    "    import logging\n",
    "    import dask_xgboost.core as dc\n",
    "    log = logging.getLogger('distributed.scheduler')\n",
    "    log.info(dc.parse_host_port)\n",
    "    print(dc.parse_host_port)\n",
    "    def parse_host_port(address):\n",
    "        if '://' in address:\n",
    "            address = address.rsplit('://', 1)[1]\n",
    "        host, port = address.split(':')\n",
    "        port = int(port)\n",
    "        log.info(\"override host/port\")\n",
    "        return '0.0.0.0', port\n",
    "    dc.parse_host_port = parse_host_port\n",
    "#     setattr(dc, 'parse_host_port', parse_host_port)\n",
    "    log.info(dc.parse_host_port)\n",
    "    from dask_xgboost.core import parse_host_port\n",
    "    log.info(parse_host_port)\n",
    "#     os.system('sudo echo 0.0.0.0 {} > /etc/hosts'.format(host))\n",
    "    \n",
    "def install_fixed_xgboost():\n",
    "    import os\n",
    "    os.system('pip install git+https://github.com/javabrett/dask-xgboost@master')\n",
    "    \n",
    "def stuff():\n",
    "    import logging\n",
    "    from dask_xgboost.tracker import get_host_ip\n",
    "    log = logging.getLogger('distributed.scheduler')\n",
    "    log.info(get_host_ip('auto'))\n",
    "    return get_host_ip('auto')\n",
    "    \n",
    "client._run_on_scheduler(stuff)\n",
    "\n",
    "\n",
    "\n",
    "# parse_host_port(client.scheduler.address)\n",
    "# setattr(dask_xgboost.core, 'parse_host_port', parse_host_port)"
   ]
  },
  {
   "cell_type": "code",
   "execution_count": null,
   "metadata": {},
   "outputs": [],
   "source": []
  },
  {
   "cell_type": "code",
   "execution_count": null,
   "metadata": {},
   "outputs": [],
   "source": []
  }
 ],
 "metadata": {
  "kernelspec": {
   "display_name": "Python 3",
   "language": "python",
   "name": "python3"
  },
  "language_info": {
   "codemirror_mode": {
    "name": "ipython",
    "version": 3
   },
   "file_extension": ".py",
   "mimetype": "text/x-python",
   "name": "python",
   "nbconvert_exporter": "python",
   "pygments_lexer": "ipython3",
   "version": "3.7.1"
  }
 },
 "nbformat": 4,
 "nbformat_minor": 2
}
