{
 "cells": [
  {
   "cell_type": "markdown",
   "metadata": {},
   "source": [
    "# Monte Carlo Simulation"
   ]
  },
  {
   "cell_type": "code",
   "execution_count": 2,
   "metadata": {},
   "outputs": [],
   "source": [
    "import numpy as np\n",
    "from dask.diagnostics import ProgressBar\n",
    "ProgressBar().register()"
   ]
  },
  {
   "cell_type": "code",
   "execution_count": 3,
   "metadata": {},
   "outputs": [],
   "source": [
    "def random_walk(s0, mu, sigma, days):\n",
    "    dt = 1/365.\n",
    "    prices = np.zeros(days)\n",
    "    prices[0] = s0\n",
    "    random_values = np.random.normal(loc=mu * dt, scale=sigma * np.sqrt(dt), size=days-1)\n",
    "    it = np.nditer(random_values, flags=['f_index'])\n",
    "    while not it.finished:\n",
    "        prices[it.index+1] = prices[it.index] * (1 + it[0])\n",
    "        it.iternext()\n",
    "\n",
    "    return prices\n",
    "\n",
    "\n",
    "s0 = 100\n",
    "K = 100\n",
    "mu = 0.02\n",
    "sigma = 0.2\n",
    "days = 365*10 # 10 years\n",
    "n = 10000 # number of simulations"
   ]
  },
  {
   "cell_type": "markdown",
   "metadata": {},
   "source": [
    "Exmaple of normal python code"
   ]
  },
  {
   "cell_type": "code",
   "execution_count": null,
   "metadata": {},
   "outputs": [],
   "source": [
    "# Exmaple of running this locally\n",
    "result = np.average([max(\n",
    "    0, \n",
    "    np.average(random_walk(s0, mu, sigma, days)) - K\n",
    ") for i in range(0, n)])"
   ]
  },
  {
   "cell_type": "markdown",
   "metadata": {},
   "source": [
    "Using Dask delayed"
   ]
  },
  {
   "cell_type": "code",
   "execution_count": null,
   "metadata": {},
   "outputs": [],
   "source": [
    "from dask import delayed\n",
    "result = delayed(np.average)([delayed(max)(\n",
    "    0, \n",
    "    delayed(np.average)(random_walk(s0, mu, sigma, days)) - K\n",
    ") for i in range(0, n)])"
   ]
  },
  {
   "cell_type": "code",
   "execution_count": 4,
   "metadata": {},
   "outputs": [],
   "source": [
    "import time\n",
    "import dask\n",
    "import dask.bag as db\n",
    "\n",
    "def run():\n",
    "    result = db \\\n",
    "        .from_sequence(range(0, n), npartitions=int(n/100)) \\\n",
    "        .map(lambda _: max(\n",
    "            0,\n",
    "            np.average(random_walk(s0, mu, sigma, days)) - K\n",
    "        )) \\\n",
    "        .to_dataframe(columns=['max']) \\\n",
    "        ['max'].mean()\n",
    "\n",
    "    return result"
   ]
  },
  {
   "cell_type": "code",
   "execution_count": null,
   "metadata": {},
   "outputs": [],
   "source": [
    "# Dont run this on large graphs!\n",
    "# run().visualize() "
   ]
  },
  {
   "cell_type": "code",
   "execution_count": 4,
   "metadata": {},
   "outputs": [
    {
     "name": "stdout",
     "output_type": "stream",
     "text": [
      "[########################################] | 100% Completed |  0.1s\n",
      "[########################################] | 100% Completed |  2min  0.4s\n",
      "20.768292231314284\n",
      "CPU times: user 2min 2s, sys: 1.52 s, total: 2min 3s\n",
      "Wall time: 2min\n"
     ]
    }
   ],
   "source": [
    "%%time\n",
    "print(run().compute())"
   ]
  },
  {
   "cell_type": "code",
   "execution_count": 5,
   "metadata": {},
   "outputs": [
    {
     "name": "stdout",
     "output_type": "stream",
     "text": [
      "CPU times: user 8 ms, sys: 4 ms, total: 12 ms\n",
      "Wall time: 80.6 ms\n"
     ]
    }
   ],
   "source": [
    "%%time\n",
    "from dask.distributed import progress\n",
    "from dask.distributed import Client, LocalCluster\n",
    "client = Client('dask-scheduler:8786')\n",
    "client"
   ]
  },
  {
   "cell_type": "code",
   "execution_count": null,
   "metadata": {},
   "outputs": [],
   "source": [
    "print(run().compute())"
   ]
  },
  {
   "cell_type": "code",
   "execution_count": null,
   "metadata": {},
   "outputs": [],
   "source": [
    "\n",
    "client.close()"
   ]
  }
 ],
 "metadata": {
  "kernelspec": {
   "display_name": "Python 3",
   "language": "python",
   "name": "python3"
  },
  "language_info": {
   "codemirror_mode": {
    "name": "ipython",
    "version": 3
   },
   "file_extension": ".py",
   "mimetype": "text/x-python",
   "name": "python",
   "nbconvert_exporter": "python",
   "pygments_lexer": "ipython3",
   "version": "3.7.1"
  }
 },
 "nbformat": 4,
 "nbformat_minor": 2
}
